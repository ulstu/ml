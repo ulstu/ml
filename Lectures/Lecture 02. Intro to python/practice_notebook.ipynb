{
 "cells": [
  {
   "cell_type": "code",
   "execution_count": 6,
   "metadata": {},
   "outputs": [
    {
     "name": "stdout",
     "output_type": "stream",
     "text": [
      "Hello world!!!\n"
     ]
    }
   ],
   "source": [
    "print(\"Hello world!!!\")"
   ]
  },
  {
   "cell_type": "code",
   "execution_count": 7,
   "metadata": {},
   "outputs": [
    {
     "data": {
      "text/plain": [
       "4"
      ]
     },
     "execution_count": 7,
     "metadata": {},
     "output_type": "execute_result"
    }
   ],
   "source": [
    "2 + 2"
   ]
  },
  {
   "cell_type": "code",
   "execution_count": 11,
   "metadata": {},
   "outputs": [
    {
     "name": "stdout",
     "output_type": "stream",
     "text": [
      "5\n",
      "140030650022272\n",
      "140030650022304\n"
     ]
    }
   ],
   "source": [
    "a = 5\n",
    "print(a)\n",
    "print(id(a))\n",
    "a = 6\n",
    "print(id(a))"
   ]
  },
  {
   "cell_type": "code",
   "execution_count": 18,
   "metadata": {},
   "outputs": [
    {
     "name": "stdout",
     "output_type": "stream",
     "text": [
      "140030433807560\n",
      "140030433807560\n",
      "[5, 7]\n"
     ]
    }
   ],
   "source": [
    "b = []\n",
    "b.append(5)\n",
    "print(id(b))\n",
    "b.append(7)\n",
    "print(id(b))\n",
    "print(b)\n"
   ]
  },
  {
   "cell_type": "code",
   "execution_count": 23,
   "metadata": {},
   "outputs": [
    {
     "data": {
      "text/plain": [
       "1"
      ]
     },
     "execution_count": 23,
     "metadata": {},
     "output_type": "execute_result"
    }
   ],
   "source": [
    "a = 5\n",
    "a % 2"
   ]
  },
  {
   "cell_type": "code",
   "execution_count": 25,
   "metadata": {},
   "outputs": [
    {
     "data": {
      "text/plain": [
       "0.75"
      ]
     },
     "execution_count": 25,
     "metadata": {},
     "output_type": "execute_result"
    }
   ],
   "source": [
    "a = 3\n",
    "3 / 4"
   ]
  },
  {
   "cell_type": "code",
   "execution_count": 26,
   "metadata": {},
   "outputs": [
    {
     "data": {
      "text/plain": [
       "10000000000000000000000000000000000000000000000000000000000000000000000000000000000000000000000000000"
      ]
     },
     "execution_count": 26,
     "metadata": {},
     "output_type": "execute_result"
    }
   ],
   "source": [
    "10 ** 100"
   ]
  },
  {
   "cell_type": "code",
   "execution_count": 35,
   "metadata": {},
   "outputs": [
    {
     "name": "stdout",
     "output_type": "stream",
     "text": [
      "my' name\n",
      "my' name\n",
      "is Kirill\n"
     ]
    }
   ],
   "source": [
    "name = 'my\\' name'\n",
    "name1 = \"\"\"my' name\n",
    "is Kirill\"\"\"\n",
    "print(name)\n",
    "print(name1)\n"
   ]
  },
  {
   "cell_type": "code",
   "execution_count": 39,
   "metadata": {},
   "outputs": [
    {
     "name": "stdout",
     "output_type": "stream",
     "text": [
      "5 is a leading engineering university in Ulyanovsk and 9 is a leading school of IT in our city\n"
     ]
    }
   ],
   "source": [
    "a = 5\n",
    "b = 9\n",
    "c = \"{} is a leading engineering university in Ulyanovsk and {} is a leading school of IT in our city\"\n",
    "print(c.format(a, b))"
   ]
  },
  {
   "cell_type": "code",
   "execution_count": 43,
   "metadata": {},
   "outputs": [
    {
     "name": "stdout",
     "output_type": "stream",
     "text": [
      "Something\n"
     ]
    },
    {
     "data": {
      "text/plain": [
       "['__add__',\n",
       " '__class__',\n",
       " '__contains__',\n",
       " '__delattr__',\n",
       " '__dir__',\n",
       " '__doc__',\n",
       " '__eq__',\n",
       " '__format__',\n",
       " '__ge__',\n",
       " '__getattribute__',\n",
       " '__getitem__',\n",
       " '__getnewargs__',\n",
       " '__gt__',\n",
       " '__hash__',\n",
       " '__init__',\n",
       " '__init_subclass__',\n",
       " '__iter__',\n",
       " '__le__',\n",
       " '__len__',\n",
       " '__lt__',\n",
       " '__mod__',\n",
       " '__mul__',\n",
       " '__ne__',\n",
       " '__new__',\n",
       " '__reduce__',\n",
       " '__reduce_ex__',\n",
       " '__repr__',\n",
       " '__rmod__',\n",
       " '__rmul__',\n",
       " '__setattr__',\n",
       " '__sizeof__',\n",
       " '__str__',\n",
       " '__subclasshook__',\n",
       " 'capitalize',\n",
       " 'casefold',\n",
       " 'center',\n",
       " 'count',\n",
       " 'encode',\n",
       " 'endswith',\n",
       " 'expandtabs',\n",
       " 'find',\n",
       " 'format',\n",
       " 'format_map',\n",
       " 'index',\n",
       " 'isalnum',\n",
       " 'isalpha',\n",
       " 'isdecimal',\n",
       " 'isdigit',\n",
       " 'isidentifier',\n",
       " 'islower',\n",
       " 'isnumeric',\n",
       " 'isprintable',\n",
       " 'isspace',\n",
       " 'istitle',\n",
       " 'isupper',\n",
       " 'join',\n",
       " 'ljust',\n",
       " 'lower',\n",
       " 'lstrip',\n",
       " 'maketrans',\n",
       " 'partition',\n",
       " 'replace',\n",
       " 'rfind',\n",
       " 'rindex',\n",
       " 'rjust',\n",
       " 'rpartition',\n",
       " 'rsplit',\n",
       " 'rstrip',\n",
       " 'split',\n",
       " 'splitlines',\n",
       " 'startswith',\n",
       " 'strip',\n",
       " 'swapcase',\n",
       " 'title',\n",
       " 'translate',\n",
       " 'upper',\n",
       " 'zfill']"
      ]
     },
     "execution_count": 43,
     "metadata": {},
     "output_type": "execute_result"
    }
   ],
   "source": [
    "a = \"something\"\n",
    "b = a.capitalize()\n",
    "print(b)\n",
    "dir(a)"
   ]
  },
  {
   "cell_type": "code",
   "execution_count": 45,
   "metadata": {},
   "outputs": [
    {
     "name": "stdout",
     "output_type": "stream",
     "text": [
      "False\n"
     ]
    }
   ],
   "source": [
    "print(b.startswith(\"So\"))"
   ]
  },
  {
   "cell_type": "code",
   "execution_count": 48,
   "metadata": {},
   "outputs": [
    {
     "data": {
      "text/plain": [
       "'1 @ 2 @ 3 @ 4 @ 5'"
      ]
     },
     "execution_count": 48,
     "metadata": {},
     "output_type": "execute_result"
    }
   ],
   "source": [
    "\" @ \".join([\"1\", \"2\", \"3\", \"4\", \"5\"])"
   ]
  },
  {
   "cell_type": "code",
   "execution_count": 49,
   "metadata": {},
   "outputs": [
    {
     "data": {
      "text/plain": [
       "'per aspera ad astra'"
      ]
     },
     "execution_count": 49,
     "metadata": {},
     "output_type": "execute_result"
    }
   ],
   "source": [
    "\"  per aspera ad astra        \".strip() "
   ]
  },
  {
   "cell_type": "code",
   "execution_count": 51,
   "metadata": {},
   "outputs": [],
   "source": [
    "a = True"
   ]
  },
  {
   "cell_type": "code",
   "execution_count": 65,
   "metadata": {},
   "outputs": [
    {
     "name": "stdout",
     "output_type": "stream",
     "text": [
      "[45, 23, 56, 2, 12]\n",
      "[-1, 3, 8, 10, 2, 5]\n",
      "[]\n",
      "old: 140030433023496 new: 140030434612744\n",
      "[45, 23, 56, 2, 12]\n",
      "[2, 12, 23, 45, 56]\n",
      "['__add__', '__class__', '__contains__', '__delattr__', '__delitem__', '__dir__', '__doc__', '__eq__', '__format__', '__ge__', '__getattribute__', '__getitem__', '__gt__', '__hash__', '__iadd__', '__imul__', '__init__', '__init_subclass__', '__iter__', '__le__', '__len__', '__lt__', '__mul__', '__ne__', '__new__', '__reduce__', '__reduce_ex__', '__repr__', '__reversed__', '__rmul__', '__setattr__', '__setitem__', '__sizeof__', '__str__', '__subclasshook__', 'append', 'clear', 'copy', 'count', 'extend', 'index', 'insert', 'pop', 'remove', 'reverse', 'sort']\n",
      "Help on built-in function insert:\n",
      "\n",
      "insert(...) method of builtins.list instance\n",
      "    L.insert(index, object) -- insert object before index\n",
      "\n"
     ]
    }
   ],
   "source": [
    "l = []\n",
    "l.append(45)\n",
    "l.append(23)\n",
    "l.append(56)\n",
    "l.append(2)\n",
    "l.append(12)\n",
    "print(l)\n",
    "\n",
    "lm = [-1, 3, 8, 10, 2, 5]\n",
    "print(lm)\n",
    "\n",
    "lm.clear()\n",
    "print(lm)\n",
    "\n",
    "#lm = l # why it is not right???\n",
    "lm = l.copy()\n",
    "print(\"old: {} new: {}\".format(id(lm), id(l)))\n",
    "print(lm)\n",
    "\n",
    "l.sort()\n",
    "print(l)\n",
    "\n",
    "print(dir(l))\n",
    "\n",
    "help([].insert)\n",
    "\n"
   ]
  },
  {
   "cell_type": "code",
   "execution_count": 72,
   "metadata": {},
   "outputs": [
    {
     "name": "stdout",
     "output_type": "stream",
     "text": [
      "{'name': 'Vasiliy', 'age': '26', 'email': 'vasya@vasya.ru'}\n",
      "Vasiliy\n",
      "True\n",
      "False\n"
     ]
    }
   ],
   "source": [
    "dic = {}\n",
    "dic['name'] = 'Vasiliy'\n",
    "dic['age'] = '26'\n",
    "dic['email'] = 'vasya@vasya.ru'\n",
    "print(dic)\n",
    "print(dic['name'])\n",
    "print('age' in dic)  # True (has a dictionary contains a key 'age' or not?)\n",
    "print('Vasiliy' in dic) # False"
   ]
  },
  {
   "cell_type": "code",
   "execution_count": 77,
   "metadata": {},
   "outputs": [
    {
     "name": "stdout",
     "output_type": "stream",
     "text": [
      "Not found\n",
      "26\n"
     ]
    }
   ],
   "source": [
    "#print(dic['last_name'])\n",
    "if 'last_name' in dic:\n",
    "    print(dic['last_name'])\n",
    "else:\n",
    "    print('Not found')\n",
    "print(dic.get('age', 'Not found'))"
   ]
  },
  {
   "cell_type": "code",
   "execution_count": 78,
   "metadata": {},
   "outputs": [
    {
     "name": "stdout",
     "output_type": "stream",
     "text": [
      "{'name': 'Vasiliy', 'age': '26', 'email': 'vasya@vasya.ru'}\n",
      "{'name': 'Vasiliy', 'email': 'vasya@vasya.ru'}\n"
     ]
    }
   ],
   "source": [
    "print(dic)\n",
    "del dic['age']\n",
    "print(dic)"
   ]
  },
  {
   "cell_type": "code",
   "execution_count": 83,
   "metadata": {},
   "outputs": [
    {
     "name": "stdout",
     "output_type": "stream",
     "text": [
      "5\n"
     ]
    }
   ],
   "source": [
    "#int sum_2(int a) {\n",
    "#    return a +2;\n",
    "#}\n",
    "def sum_2(a):\n",
    "    return a + 2\n",
    "\n",
    "print(sum_2(3))"
   ]
  },
  {
   "cell_type": "code",
   "execution_count": 86,
   "metadata": {},
   "outputs": [
    {
     "name": "stdout",
     "output_type": "stream",
     "text": [
      "5\n",
      "7\n",
      "Help on function sum_p in module __main__:\n",
      "\n",
      "sum_p(a, b=3)\n",
      "    Summarizes two numbers. Default value for 'b' is 3\n",
      "\n"
     ]
    }
   ],
   "source": [
    "def sum_p(a, b = 3):\n",
    "    \"Summarizes two numbers. Default value for 'b' is 3\"\n",
    "    return a + b\n",
    "\n",
    "print(sum_p(2))\n",
    "print(sum_p(2, 5))\n",
    "help(sum_p)"
   ]
  },
  {
   "cell_type": "code",
   "execution_count": 89,
   "metadata": {},
   "outputs": [
    {
     "name": "stdout",
     "output_type": "stream",
     "text": [
      "<= 80\n",
      "> 80\n",
      "<= 80\n"
     ]
    }
   ],
   "source": [
    "def cond(a):\n",
    "    if a > 90 and a < 120:\n",
    "        print('> 90')\n",
    "    elif a > 80:\n",
    "        print('> 80')\n",
    "    else:\n",
    "        print('<= 80')\n",
    "        \n",
    "cond(130)\n",
    "cond(85)\n",
    "cond(10)"
   ]
  },
  {
   "cell_type": "code",
   "execution_count": 90,
   "metadata": {},
   "outputs": [
    {
     "data": {
      "text/plain": [
       "5"
      ]
     },
     "execution_count": 90,
     "metadata": {},
     "output_type": "execute_result"
    }
   ],
   "source": [
    "5 & 7 # 101 & 111 == 101"
   ]
  },
  {
   "cell_type": "code",
   "execution_count": 93,
   "metadata": {},
   "outputs": [
    {
     "name": "stdout",
     "output_type": "stream",
     "text": [
      "not ok\n"
     ]
    }
   ],
   "source": [
    "a = 2\n",
    "if 3 < a < 5:\n",
    "    print('ok')\n",
    "else:\n",
    "    print('not ok')"
   ]
  },
  {
   "cell_type": "code",
   "execution_count": 94,
   "metadata": {},
   "outputs": [
    {
     "name": "stdout",
     "output_type": "stream",
     "text": [
      "1\n",
      "2\n",
      "3\n",
      "4\n",
      "5\n"
     ]
    }
   ],
   "source": [
    "for i in [1, 2, 3, 4, 5]:\n",
    "    print(i)"
   ]
  },
  {
   "cell_type": "code",
   "execution_count": 98,
   "metadata": {},
   "outputs": [
    {
     "name": "stdout",
     "output_type": "stream",
     "text": [
      "2\n",
      "3\n",
      "4\n",
      "5\n",
      "6\n",
      "7\n",
      "8\n",
      "9\n"
     ]
    }
   ],
   "source": [
    "for i in range(2, 10):\n",
    "    print(i)"
   ]
  },
  {
   "cell_type": "code",
   "execution_count": 99,
   "metadata": {},
   "outputs": [
    {
     "name": "stdout",
     "output_type": "stream",
     "text": [
      "0: cat\n",
      "1: dog\n",
      "2: horse\n"
     ]
    }
   ],
   "source": [
    "animals = ['cat', 'dog', 'horse']\n",
    "for index, value in enumerate(animals):\n",
    "    print(\"{}: {}\".format(index, value))"
   ]
  },
  {
   "cell_type": "code",
   "execution_count": 100,
   "metadata": {},
   "outputs": [
    {
     "name": "stdout",
     "output_type": "stream",
     "text": [
      "name: Vasiliy\n",
      "email: vasya@vasya.ru\n"
     ]
    }
   ],
   "source": [
    "for key, value in dic.items():\n",
    "    print(\"{}: {}\".format(key, value))"
   ]
  },
  {
   "cell_type": "code",
   "execution_count": 112,
   "metadata": {},
   "outputs": [
    {
     "name": "stdout",
     "output_type": "stream",
     "text": [
      "4\n",
      "9\n",
      "[1, 2, 3]\n",
      "[1, 2, 3]\n",
      "[4, 5, 6, 7, 8, 9, 10]\n",
      "[2, 3]\n",
      "[1, 3, 5, 7, 9]\n",
      "[1, 4, 7]\n"
     ]
    }
   ],
   "source": [
    "l = [1, 2, 3, 4, 5, 6, 7, 8, 9, 10]\n",
    "print(l[3])\n",
    "print(l[-2])\n",
    "print(l[0:3])\n",
    "print(l[:3])\n",
    "print(l[3:])\n",
    "print(l[1:3])\n",
    "print(l[0:9:2])\n",
    "print(l[0:9:3])"
   ]
  }
 ],
 "metadata": {
  "kernelspec": {
   "display_name": "Python 3",
   "language": "python",
   "name": "python3"
  },
  "language_info": {
   "codemirror_mode": {
    "name": "ipython",
    "version": 2
   },
   "file_extension": ".py",
   "mimetype": "text/x-python",
   "name": "python",
   "nbconvert_exporter": "python",
   "pygments_lexer": "ipython2",
   "version": "2.7.13"
  }
 },
 "nbformat": 4,
 "nbformat_minor": 2
}
